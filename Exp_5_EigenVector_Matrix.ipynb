{
  "cells": [
    {
      "cell_type": "markdown",
      "metadata": {
        "id": "view-in-github",
        "colab_type": "text"
      },
      "source": [
        "<a href=\"https://colab.research.google.com/github/anilvce/a/blob/master/Exp_5_EigenVector_Matrix.ipynb\" target=\"_parent\"><img src=\"https://colab.research.google.com/assets/colab-badge.svg\" alt=\"Open In Colab\"/></a>"
      ]
    },
    {
      "cell_type": "code",
      "execution_count": null,
      "metadata": {
        "colab": {
          "base_uri": "https://localhost:8080/"
        },
        "id": "5AyT_oCl9CDK",
        "outputId": "d0462f54-4dbb-4248-f04a-b51f3137997d"
      },
      "outputs": [
        {
          "output_type": "stream",
          "name": "stdout",
          "text": [
            "[[5 1]\n",
            " [2 3]]\n",
            "[5.73205081+0.j 2.26794919+0.j]\n",
            "[[ 0.80689822 -0.34372377]\n",
            " [ 0.59069049  0.9390708 ]]\n"
          ]
        }
      ],
      "source": [
        "import numpy as np\n",
        "from scipy import linalg\n",
        "\n",
        "m = 4\n",
        "n = 4\n",
        "\n",
        "A = np.random.standard_exponential(size=(m,n))\n",
        "\n",
        "A=np.array([[5,1],[2,3]])\n",
        "print(A)\n",
        "lam, V = linalg.eig(A)\n",
        "\n",
        "print(lam)\n",
        "print(V)"
      ]
    },
    {
      "cell_type": "code",
      "source": [
        "ainv=linalg.inv(A)\n",
        "lam1,V1=linalg.eig(ainv)\n",
        "print(lam1)\n",
        "print(V1)\n",
        "if (lam==lam1).all():\n",
        "  print(\" equal\")\n",
        "else:\n",
        "  print(\"not Equal\")"
      ],
      "metadata": {
        "colab": {
          "base_uri": "https://localhost:8080/"
        },
        "id": "od1akiEJ1SJV",
        "outputId": "e41599f8-d2f3-4665-d2e7-c4420bd2cde7"
      },
      "execution_count": null,
      "outputs": [
        {
          "output_type": "stream",
          "name": "stdout",
          "text": [
            "[-4.23606798+0.j  0.23606798+0.j]\n",
            "[[-0.85065081 -0.52573111]\n",
            " [ 0.52573111 -0.85065081]]\n",
            "not Equal\n"
          ]
        }
      ]
    },
    {
      "cell_type": "markdown",
      "metadata": {
        "id": "xiyXkXYR9CDR"
      },
      "source": [
        "### EigenVector Decomposition\n",
        "###### A (nonzero) vector v of dimension N is an eigenvector of a square N × N matrix A if it satisfies a linear equation of the form\n",
        "\n",
        "###### Av  = Lambda*v\n",
        "\n",
        "###### for some scalar λ. Then λ is called the eigenvalue corresponding to v. Geometrically speaking, the eigenvectors of A are the vectors that A merely elongates or shrinks, and the amount that they elongate/shrink by is the eigenvalue. The above equation is called the eigenvalue equation or the eigenvalue problem."
      ]
    },
    {
      "cell_type": "code",
      "execution_count": null,
      "metadata": {
        "scrolled": true,
        "colab": {
          "base_uri": "https://localhost:8080/"
        },
        "id": "d1zZ2-Uz9CDU",
        "outputId": "dbdb1fcb-aae6-43e2-d0dc-82707d13960e"
      },
      "outputs": [
        {
          "output_type": "stream",
          "name": "stdout",
          "text": [
            "[[ 0.20081142 -2.22703273]\n",
            " [-0.12410828 -3.60341465]]\n",
            "[[ 0.20081142-0.j -2.22703273+0.j]\n",
            " [-0.12410828+0.j -3.60341465+0.j]]\n"
          ]
        }
      ],
      "source": [
        "print(A.dot(V))\n",
        "print(lam * V )"
      ]
    },
    {
      "cell_type": "code",
      "execution_count": null,
      "metadata": {
        "colab": {
          "base_uri": "https://localhost:8080/"
        },
        "id": "ePdjIxXu9CDW",
        "outputId": "46d8745e-14bf-480e-d8c6-f9bf97486c90"
      },
      "outputs": [
        {
          "output_type": "stream",
          "name": "stdout",
          "text": [
            "7.260351408704585e-16\n"
          ]
        }
      ],
      "source": [
        "print(linalg.norm(A.dot(V) - lam*V))"
      ]
    },
    {
      "cell_type": "code",
      "execution_count": null,
      "metadata": {
        "colab": {
          "base_uri": "https://localhost:8080/"
        },
        "id": "Yr5gbFfT9CDY",
        "outputId": "f6b05c10-3d6b-4cea-a53d-1efbc45614e6"
      },
      "outputs": [
        {
          "output_type": "stream",
          "name": "stdout",
          "text": [
            "[[1.+0.j 2.+0.j]\n",
            " [2.+0.j 3.+0.j]]\n",
            "[[1 2]\n",
            " [2 3]]\n"
          ]
        }
      ],
      "source": [
        "# A @ V = lambda * V = V * Lambda\n",
        "# A = V*lambda @ V-inv\n",
        "\n",
        "m=n=2\n",
        "lambdaMatrix = np.zeros((m, n) , dtype=complex)\n",
        "lambdaInvMatrix = np.zeros((m, n), dtype=complex)\n",
        "for i in range(min(m, n)):\n",
        "    lambdaMatrix[i, i] = lam[i]\n",
        "    lambdaInvMatrix[i, i] = 1/lam[i]\n",
        "\n",
        "Vinv = linalg.inv(V)\n",
        "print( (V.dot(lambdaMatrix)).dot(Vinv) )\n",
        "\n",
        "print(A)"
      ]
    },
    {
      "cell_type": "code",
      "source": [],
      "metadata": {
        "id": "X7DnFLk71QZn"
      },
      "execution_count": null,
      "outputs": []
    },
    {
      "cell_type": "code",
      "execution_count": null,
      "metadata": {
        "id": "0IY1SyTH9CDZ",
        "outputId": "bfc28eff-1433-48b9-befc-12b5451f6825",
        "colab": {
          "base_uri": "https://localhost:8080/"
        }
      },
      "outputs": [
        {
          "output_type": "stream",
          "name": "stdout",
          "text": [
            "[[-3.+0.j  2.+0.j]\n",
            " [ 2.+0.j -1.+0.j]]\n",
            "[[-3.  2.]\n",
            " [ 2. -1.]]\n",
            "1.9641850382783467e-15\n"
          ]
        }
      ],
      "source": [
        "# A = V*lambda @ V-inv\n",
        "# Ainv = V * (Lambdainv) @ (V-inv)\n",
        "\n",
        "Vinv = linalg.inv(V)\n",
        "#print(Vinv)\n",
        "Ainv = V.dot(lambdaInvMatrix).dot(Vinv)\n",
        "print(Ainv)\n",
        "Ainvd = linalg.inv(A)\n",
        "print(Ainvd)\n",
        "\n",
        "print(linalg.norm(Ainv - Ainvd))"
      ]
    },
    {
      "cell_type": "code",
      "execution_count": null,
      "metadata": {
        "id": "h9GlvGG59CDa",
        "outputId": "58eb04d6-240a-4b01-90c5-2893710fad50",
        "colab": {
          "base_uri": "https://localhost:8080/"
        }
      },
      "outputs": [
        {
          "output_type": "stream",
          "name": "stdout",
          "text": [
            "Det:\n",
            "-1.0\n",
            "[-0.23606798+0.j  4.23606798+0.j]\n",
            "(-1.0000000000000004+0j)\n",
            "lambda Cumulative product:\n",
            "[-0.23606798+0.j -1.        +0.j]\n"
          ]
        }
      ],
      "source": [
        "# det(A) = multipy lambda values\n",
        "\n",
        "print(\"Det:\\n{}\".format(linalg.det(A)))\n",
        "print(lam)\n",
        "print(lam[0]*lam[1])\n",
        "print(\"lambda Cumulative product:\\n{}\".format(lam.cumprod()) )"
      ]
    },
    {
      "cell_type": "code",
      "execution_count": null,
      "metadata": {
        "id": "rXtZjzPH9CDb",
        "outputId": "1fc2190c-9e07-48ea-847d-a6802dd1e76e",
        "colab": {
          "base_uri": "https://localhost:8080/"
        }
      },
      "outputs": [
        {
          "output_type": "stream",
          "name": "stdout",
          "text": [
            "Trace:\n",
            "4\n",
            "lambda Cumulative sum:\n",
            "[-0.23606798+0.j  4.        +0.j]\n"
          ]
        }
      ],
      "source": [
        "# Trace(A) = sum lambda values\n",
        "print(\"Trace:\\n{}\".format(np.trace(A)))\n",
        "print(\"lambda Cumulative sum:\\n{}\".format(lam.cumsum()) )"
      ]
    },
    {
      "cell_type": "code",
      "execution_count": null,
      "metadata": {
        "id": "pTTBL7Si9CDd",
        "outputId": "37aa14cb-dff5-4414-9859-223920aa172d",
        "colab": {
          "base_uri": "https://localhost:8080/"
        }
      },
      "outputs": [
        {
          "output_type": "stream",
          "name": "stdout",
          "text": [
            "[[1 1]\n",
            " [0 1]]\n",
            "[1.+0.j 1.+0.j]\n",
            "[[ 1.00000000e+00 -1.00000000e+00]\n",
            " [ 0.00000000e+00  2.22044605e-16]]\n",
            "2.220446049250313e-16\n"
          ]
        }
      ],
      "source": [
        "D = np.array( [(1,1), (0,1)] )\n",
        "print(D)\n",
        "lamn, Vn = linalg.eig(D)\n",
        "print(lamn)\n",
        "print(Vn)\n",
        "print(linalg.norm(D.dot(Vn) - lamn*Vn))"
      ]
    },
    {
      "cell_type": "code",
      "source": [
        "arr=np.array([[1,1],[2,2]])\n",
        "print(linalg.norm(arr))\n",
        "import math\n",
        "print(math.sqrt(10))"
      ],
      "metadata": {
        "colab": {
          "base_uri": "https://localhost:8080/"
        },
        "id": "U5IYlgk_GU8o",
        "outputId": "8b10e890-30c5-4960-e81a-faa92f8c0968"
      },
      "execution_count": null,
      "outputs": [
        {
          "output_type": "stream",
          "name": "stdout",
          "text": [
            "3.1622776601683795\n",
            "3.1622776601683795\n"
          ]
        }
      ]
    },
    {
      "cell_type": "code",
      "execution_count": null,
      "metadata": {
        "id": "GuzXzIP39CDe"
      },
      "outputs": [],
      "source": [
        "#Exercises\n",
        "#Compute eigenvectors and eigen values for any random (3,3) matrix\n",
        "\n",
        "#compute inverse for any random matrix using Eigen factorization and verify with inv() & pinv() methods.\n",
        "\n",
        "#Compute and compare eigenvectors and eigen values for any random (3,3) matrix and its inverse matrix - verify the results\n",
        "\n",
        "#Compute and compare eignevectors and eigne values for any real  symmetric matrx and verify the results - eigen values are real\n",
        "\n",
        "#Compute eignevectors and eigne values for any real symmetric matrx - check eigen vectors are othogonal\n",
        "\n",
        "#verify matrix is not invertible if any one of its eigen value is zero.\n",
        "\n",
        "\n",
        "\n",
        "#Read - https://towardsdatascience.com/decomposing-eigendecomposition-f68f48470830"
      ]
    },
    {
      "cell_type": "markdown",
      "source": [
        "#Exercises\n",
        "#Compute eigenvectors and eigen values for any random (3,3) matrix\n",
        "\n",
        "#compute inverse for any random matrix using Eigen factorization and verify with inv() & pinv() methods.\n",
        "\n",
        "#Compute and compare eigenvectors and eigen values for any random (3,3) matrix and its inverse matrix - verify the results\n",
        "\n",
        "#Compute and compare eignevectors and eigne values for any real  symmetric matrx and verify the results - eigen values are real\n",
        "\n",
        "#Compute eignevectors and eigne values for any real symmetric matrx - check eigen vectors are othogonal\n",
        "\n",
        "#verify matrix is not invertible if any one of its eigen value is zero.\n",
        "\n",
        "\n",
        "\n",
        "#Read - https://towardsdatascience.com/decomposing-eigendecomposition-f68f48470830"
      ],
      "metadata": {
        "id": "BLG46k0rUiOc"
      }
    },
    {
      "cell_type": "code",
      "source": [],
      "metadata": {
        "id": "zShyqHEeUn2d"
      },
      "execution_count": null,
      "outputs": []
    },
    {
      "cell_type": "markdown",
      "source": [
        "\n",
        "Properties of Eigen values\n",
        "\n",
        "The trace of A, defined as the sum of its diagonal elements,\n",
        "is also the sum of all eigenvalues.\n",
        "\n",
        "Determinant of A is the product of all its eigen values\n",
        "\n",
        "The Eigen values of kth power of A are $λ_1^k$, $λ_2^k$, $λ_3^k$,. . . , $λ_n^k$\n",
        "\n",
        "The matrix A is invertible if and only if every eigenvalue is nonzero.\n",
        "\n",
        "If A is invertible, then the eigenvalues of $A^{-1}$ are $\\frac{1}{λ_1}$, $\\frac{1}{λ_2}$, . . . , $\\frac{1}{λ_n}$\n",
        "\n",
        "A square matrix $A$ is orthogonal if $A^T=A^{-1}$\n",
        "\n",
        "A unitary matrix is a matrix whose inverse equals it conjugate transpose. Unitary matrices are the complex analog of real orthogonal matrices.\n",
        "\n",
        "In mathematics, a triangular matrix is a special kind of square matrix. A square matrix is called lower triangular if all the entries above the main diagonal are zero. Similarly, a square matrix is called upper triangular if all the entries below the main diagonal are zero.\n",
        "\n",
        "A diagonal matrix is a matrix that is both upper triangular and lower triangular. i.e., all the elements above and below the principal diagonal are zeros and hence the name \"diagonal matrix\". Its mathematical definition is, a matrix A = [$a_{ij}$] is said to be diagonal if\n",
        "\n",
        "*   A is a square matrix\n",
        "*   $a_{ij}$ = 0 when i ≠ j.\n",
        "\n",
        "An identity matrix has only one eigenvalue which is 1.\n",
        "\n",
        "The eigenvalues of triangular matrices and diagonal matrices are nothing but the elements of their principal diagonal.\n",
        "\n",
        "A matrix and its transpose have the same eigenvalues.\n",
        "\n",
        "If A and B are two square matrices of the same order, then AB and BA have the same eigenvalues.\n",
        "\n",
        "The eigenvalues of an orthogonal matrix are 1 and -1.\n",
        "\n",
        "If λ is an eigenvalue of A, then kλ is an eigenvalue of kA, where 'k' is a scalar.\n",
        "\n",
        "\n",
        "\n",
        "  \n",
        "\n",
        "\n",
        "\n",
        "\n",
        "\n",
        "\n",
        "\n",
        "\n",
        "\n",
        "\n",
        "\n",
        "\n",
        "\n"
      ],
      "metadata": {
        "id": "RxwRU12UJ2ta"
      }
    },
    {
      "cell_type": "code",
      "source": [
        "#Positive Definite Matrix - 1) symmetric, 2) all eigenvalues are positive, 3) all the subdeterminants are also positive"
      ],
      "metadata": {
        "id": "IDVEn86LckKI"
      },
      "execution_count": null,
      "outputs": []
    }
  ],
  "metadata": {
    "kernelspec": {
      "display_name": "Python 3 (ipykernel)",
      "language": "python",
      "name": "python3"
    },
    "language_info": {
      "codemirror_mode": {
        "name": "ipython",
        "version": 3
      },
      "file_extension": ".py",
      "mimetype": "text/x-python",
      "name": "python",
      "nbconvert_exporter": "python",
      "pygments_lexer": "ipython3",
      "version": "3.9.7"
    },
    "colab": {
      "provenance": [],
      "include_colab_link": true
    }
  },
  "nbformat": 4,
  "nbformat_minor": 0
}