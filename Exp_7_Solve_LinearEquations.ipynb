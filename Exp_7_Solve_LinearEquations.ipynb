{
  "cells": [
    {
      "cell_type": "markdown",
      "metadata": {
        "id": "view-in-github",
        "colab_type": "text"
      },
      "source": [
        "<a href=\"https://colab.research.google.com/github/anilvce/a/blob/master/Exp_7_Solve_LinearEquations.ipynb\" target=\"_parent\"><img src=\"https://colab.research.google.com/assets/colab-badge.svg\" alt=\"Open In Colab\"/></a>"
      ]
    },
    {
      "cell_type": "markdown",
      "metadata": {
        "id": "N0nk_Omdj97b"
      },
      "source": [
        "###### solve system of linear equations:\n",
        "x+2y = 5\n",
        "\n",
        "3x+4y = 7\n",
        "\n",
        "Ax = b\n",
        "\n",
        "x = Ainv.dot(b)"
      ]
    },
    {
      "cell_type": "markdown",
      "source": [
        "Root finding refers to the general problem of searching for a solution of an equation $F(x)=0$ for some function $F(x)$. This is a very general problem and it comes up a lot in mathematics! For example, if we want to optimize a function $f(x)$ then we need to find critical points and therefore solve the equation  $f'(x)=0$\n"
      ],
      "metadata": {
        "id": "-i_M4bEXkKwA"
      }
    },
    {
      "cell_type": "markdown",
      "source": [
        "solve system of linear equations:\n",
        "x+2y = 5\n",
        "\n",
        "3x+4y = 7\n",
        "\n",
        "Ax = b\n",
        "\n",
        "x = Ainv.dot(b)"
      ],
      "metadata": {
        "id": "IJPS3DHRlOdX"
      }
    },
    {
      "cell_type": "code",
      "execution_count": null,
      "metadata": {
        "colab": {
          "base_uri": "https://localhost:8080/"
        },
        "id": "_dz_B13Yj97d",
        "outputId": "096b77e2-a96d-4652-f406-a49a26869659"
      },
      "outputs": [
        {
          "output_type": "stream",
          "name": "stdout",
          "text": [
            "[-3.  4.]\n",
            "[5. 7.]\n"
          ]
        }
      ],
      "source": [
        "#x+2y = 5 3x+4y = 7 Ax = b\n",
        "#x = Ainv.dot(b)\n",
        "import numpy as np\n",
        "from scipy import linalg\n",
        "\n",
        "A= np.array([[1,2], [3,4]])\n",
        "b= np.array([5,7])\n",
        "x= linalg.inv(A).dot(b)\n",
        "print(x)\n",
        "print(A.dot(x))"
      ]
    },
    {
      "cell_type": "code",
      "execution_count": null,
      "metadata": {
        "colab": {
          "base_uri": "https://localhost:8080/"
        },
        "id": "nMBq8-irj97e",
        "outputId": "9431a81e-db85-456a-9957-537cf50a2f23"
      },
      "outputs": [
        {
          "output_type": "execute_result",
          "data": {
            "text/plain": [
              "array([-3.,  4.])"
            ]
          },
          "metadata": {},
          "execution_count": 6
        }
      ],
      "source": [
        "linalg.solve(A, b)"
      ]
    },
    {
      "cell_type": "code",
      "execution_count": null,
      "metadata": {
        "colab": {
          "base_uri": "https://localhost:8080/"
        },
        "id": "FSdt0bAvj97f",
        "outputId": "876ce238-f98f-4943-c429-25cea7640820"
      },
      "outputs": [
        {
          "output_type": "stream",
          "name": "stdout",
          "text": [
            "A=\n",
            "[[ 8 42]\n",
            " [41 45]\n",
            " [87 45]\n",
            " [93  4]]\n",
            "b=\n",
            "[[34]\n",
            " [23]\n",
            " [37]\n",
            " [64]]\n"
          ]
        }
      ],
      "source": [
        "m = 4; n=2\n",
        "A = np.random.randint(100, size=(m,n))\n",
        "b = np.random.randint(100, size=(m,1))\n",
        "print(\"A=\\n{}\".format(A))\n",
        "print(\"b=\\n{}\".format(b))"
      ]
    },
    {
      "cell_type": "code",
      "execution_count": null,
      "metadata": {
        "colab": {
          "base_uri": "https://localhost:8080/"
        },
        "id": "NyCO0jPbj97f",
        "outputId": "fd4f35e3-42ad-4eb8-d98e-30fb01a2e0e4"
      },
      "outputs": [
        {
          "output_type": "stream",
          "name": "stdout",
          "text": [
            "x= [[0.51192628]\n",
            " [0.18402415]]\n",
            "[[-22.17557527]\n",
            " [  6.27006443]\n",
            " [ 15.81867332]\n",
            " [-15.65475934]]\n"
          ]
        }
      ],
      "source": [
        "#linalg.solve(A, b) - does not work\n",
        "Ainv = linalg.pinv(A)\n",
        "x = Ainv.dot(b)\n",
        "print(\"x=\",x)\n",
        "print(A.dot(x) - b)"
      ]
    },
    {
      "cell_type": "markdown",
      "source": [
        "linalg.lstsq(a, b)\n",
        "\n",
        "\n",
        "Return the least-squares solution to a linear matrix equation.\n",
        "\n",
        "Computes the vector x that approximately solves the equation a @ x = b. The equation may be under-, well-, or over-determined (i.e., the number of linearly independent rows of a can be less than, equal to, or greater than its number of linearly independent columns). If a is square and of full rank, then x (but for round-off error) is the “exact” solution of the equation."
      ],
      "metadata": {
        "id": "dLTxL5OEzTgk"
      }
    },
    {
      "cell_type": "code",
      "execution_count": null,
      "metadata": {
        "id": "WzXV0ws-j97f",
        "outputId": "0aef3e38-400a-4e10-954d-48bd55517f6b",
        "colab": {
          "base_uri": "https://localhost:8080/"
        }
      },
      "outputs": [
        {
          "output_type": "stream",
          "name": "stdout",
          "text": [
            "[[0.51192628]\n",
            " [0.18402415]]\n",
            "[[-22.17557527]\n",
            " [  6.27006443]\n",
            " [ 15.81867332]\n",
            " [-15.65475934]]\n"
          ]
        }
      ],
      "source": [
        "#Minimizing |Ax-b|\n",
        "x, res, rnk, s = linalg.lstsq(A, b)\n",
        "print(x)\n",
        "print(A.dot(x) - b)"
      ]
    },
    {
      "cell_type": "code",
      "source": [
        "import numpy as np\n",
        "import matplotlib.pyplot as plt\n",
        "\n",
        "# x co-ordinates\n",
        "x = np.arange(0, 9)\n",
        "\n",
        "A = np.array([x, np.ones(9)])\n",
        "print(\"x=\",x)\n",
        "print(\"A=\",A)\n",
        "# linearly generated sequence\n",
        "y = [19, 20, 20.5, 21.5, 22, 23, 23, 25.5, 24]\n",
        "\n",
        "# obtaining the parameters of regression line\n",
        "print(\"A transpose is\", A.T)\n",
        "w = np.linalg.lstsq(A.T, y, rcond=None)[0]\n",
        "print(w)"
      ],
      "metadata": {
        "colab": {
          "base_uri": "https://localhost:8080/"
        },
        "id": "paxwCXVzoeoz",
        "outputId": "9a366843-a778-451c-c1b4-59bbc25c0d94"
      },
      "execution_count": null,
      "outputs": [
        {
          "output_type": "stream",
          "name": "stdout",
          "text": [
            "x= [0 1 2 3 4 5 6 7 8]\n",
            "A= [[0. 1. 2. 3. 4. 5. 6. 7. 8.]\n",
            " [1. 1. 1. 1. 1. 1. 1. 1. 1.]]\n",
            "A transpose is [[0. 1.]\n",
            " [1. 1.]\n",
            " [2. 1.]\n",
            " [3. 1.]\n",
            " [4. 1.]\n",
            " [5. 1.]\n",
            " [6. 1.]\n",
            " [7. 1.]\n",
            " [8. 1.]]\n",
            "[ 0.71666667 19.18888889]\n"
          ]
        }
      ]
    },
    {
      "cell_type": "code",
      "source": [
        "print(A.T@w)\n",
        "import matplotlib.pyplot as plt\n",
        "plt.plot(x,A.T@w,'r-')\n",
        "plt.plot(x,y,'*')\n",
        "plt.show()"
      ],
      "metadata": {
        "colab": {
          "base_uri": "https://localhost:8080/",
          "height": 465
        },
        "id": "r9XdTHJ9ojuL",
        "outputId": "316f33d4-a267-488f-e46c-05c982399a0b"
      },
      "execution_count": null,
      "outputs": [
        {
          "output_type": "stream",
          "name": "stdout",
          "text": [
            "[19.18888889 19.90555556 20.62222222 21.33888889 22.05555556 22.77222222\n",
            " 23.48888889 24.20555556 24.92222222]\n"
          ]
        },
        {
          "output_type": "display_data",
          "data": {
            "text/plain": [
              "<Figure size 640x480 with 1 Axes>"
            ],
            "image/png": "[encoded data removed]"
          },
          "metadata": {}
        }
      ]
    },
    {
      "cell_type": "code",
      "source": [
        "plt.scatter(x,y)"
      ],
      "metadata": {
        "colab": {
          "base_uri": "https://localhost:8080/",
          "height": 447
        },
        "id": "goQjKzdRojsa",
        "outputId": "9fbb0553-dc89-484d-d623-81e035c81d02"
      },
      "execution_count": null,
      "outputs": [
        {
          "output_type": "execute_result",
          "data": {
            "text/plain": [
              "<matplotlib.collections.PathCollection at 0x7f09bee5cfd0>"
            ]
          },
          "metadata": {},
          "execution_count": 12
        },
        {
          "output_type": "display_data",
          "data": {
            "text/plain": [
              "<Figure size 640x480 with 1 Axes>"
            ],
            "image/png": "[encoded data removed]"
          },
          "metadata": {}
        }
      ]
    },
    {
      "cell_type": "markdown",
      "source": [
        "Fit a line, y = mx + c, through some noisy data-points:"
      ],
      "metadata": {
        "id": "m1EAn7KZ2GGC"
      }
    },
    {
      "cell_type": "markdown",
      "source": [
        "The simplest root finding algorithm is the bisection method. The algorithm applies to any continuous function $f(x)$\n",
        " on an interval $[a,b]$  where the value of the function\n",
        " changes sign from $a$ to $b$. The idea is simple: divide the interval in two, a solution must exist within one subinterval, select the subinterval where the sign of $f(x)$\n",
        " changes and repeat.\n",
        "\n",
        " We can rewrite the line equation as y = Ap, where A = [[x 1]] and p = [[m], [c]]. Now use lstsq to solve for p:"
      ],
      "metadata": {
        "id": "YhfxroxmsH4F"
      }
    },
    {
      "cell_type": "code",
      "source": [
        "x = np.array([0, 1, 2, 3])\n",
        "y = np.array([-1, 0.2, 0.9, 2.1])"
      ],
      "metadata": {
        "id": "xI_Og1-62gUx"
      },
      "execution_count": null,
      "outputs": []
    },
    {
      "cell_type": "code",
      "source": [
        "on=np.ones(4)\n",
        "print(x,on)\n",
        "A = np.vstack([x, np.ones(4)]).T\n",
        "display(A)\n",
        "m,c=np.linalg.lstsq(A,y)[0]\n",
        "print(\"m=\",m)\n",
        "print(\"c=\",c)"
      ],
      "metadata": {
        "colab": {
          "base_uri": "https://localhost:8080/",
          "height": 211
        },
        "id": "-Uzsrt5I2hkx",
        "outputId": "8c02276f-66f1-4861-9517-a25cf628b432"
      },
      "execution_count": null,
      "outputs": [
        {
          "output_type": "stream",
          "name": "stdout",
          "text": [
            "[0 1 2 3] [1. 1. 1. 1.]\n"
          ]
        },
        {
          "output_type": "display_data",
          "data": {
            "text/plain": [
              "array([[0., 1.],\n",
              "       [1., 1.],\n",
              "       [2., 1.],\n",
              "       [3., 1.]])"
            ]
          },
          "metadata": {}
        },
        {
          "output_type": "stream",
          "name": "stdout",
          "text": [
            "m= 0.9999999999999999\n",
            "c= -0.9499999999999997\n"
          ]
        },
        {
          "output_type": "stream",
          "name": "stderr",
          "text": [
            "<ipython-input-14-5cfe87b58da3>:5: FutureWarning: `rcond` parameter will change to the default of machine precision times ``max(M, N)`` where M and N are the input matrix dimensions.\n",
            "To use the future default and silence this warning we advise to pass `rcond=None`, to keep using the old, explicitly pass `rcond=-1`.\n",
            "  m,c=np.linalg.lstsq(A,y)[0]\n"
          ]
        }
      ]
    },
    {
      "cell_type": "code",
      "source": [
        "import matplotlib.pyplot as plt\n",
        "plt.plot(x, y, 'o', label='Original data', markersize=10)\n",
        "plt.plot(x, m*x + c, 'r', label='Fitted line')\n",
        "plt.legend()\n",
        "plt.show()"
      ],
      "metadata": {
        "colab": {
          "base_uri": "https://localhost:8080/",
          "height": 430
        },
        "id": "5G5880R_4Sy6",
        "outputId": "87bda9f6-f5b5-45bb-e525-a7c0172f4a33"
      },
      "execution_count": null,
      "outputs": [
        {
          "output_type": "display_data",
          "data": {
            "text/plain": [
              "<Figure size 640x480 with 1 Axes>"
            ],
            "image/png": "[encoded data removed]"
          },
          "metadata": {}
        }
      ]
    },
    {
      "cell_type": "code",
      "execution_count": null,
      "metadata": {
        "colab": {
          "base_uri": "https://localhost:8080/"
        },
        "id": "NBtM8iDyj97f",
        "outputId": "cae11e4d-1712-4874-8f40-1bb6b8ceba48"
      },
      "outputs": [
        {
          "output_type": "stream",
          "name": "stdout",
          "text": [
            "1.0 -1.0\n"
          ]
        }
      ],
      "source": [
        "def f(x):\n",
        "    return (x**2 - 1)\n",
        "from scipy import optimize\n",
        "root1 = optimize.bisect(f, 0, 2)\n",
        "root2 = optimize.bisect(f, -2, 0)\n",
        "print(root1,root2)"
      ]
    },
    {
      "cell_type": "code",
      "source": [
        "def f(x):\n",
        "    return (x**3 - 1)  # only one real root at x = 1\n",
        "root = optimize.newton(f, 1.5)\n",
        "root\n",
        "\n",
        "\n"
      ],
      "metadata": {
        "colab": {
          "base_uri": "https://localhost:8080/"
        },
        "id": "cct1QaX4uBDj",
        "outputId": "c12926d1-1346-4bc4-a0ef-e03659c13108"
      },
      "execution_count": null,
      "outputs": [
        {
          "output_type": "execute_result",
          "data": {
            "text/plain": [
              "1.0000000000000016"
            ]
          },
          "metadata": {},
          "execution_count": 17
        }
      ]
    },
    {
      "cell_type": "code",
      "source": [
        "root = optimize.newton(f, 1.5, fprime2=lambda x: 6 * x)\n",
        "root\n"
      ],
      "metadata": {
        "colab": {
          "base_uri": "https://localhost:8080/"
        },
        "id": "FkyBQGi3wO8s",
        "outputId": "29a0f3f2-d146-4dc6-b4fb-8d381b0c458a"
      },
      "execution_count": null,
      "outputs": [
        {
          "output_type": "execute_result",
          "data": {
            "text/plain": [
              "1.0000000000000016"
            ]
          },
          "metadata": {},
          "execution_count": 18
        }
      ]
    },
    {
      "cell_type": "code",
      "source": [
        "root = optimize.newton(f, 1.5, fprime=lambda x: 3 * x**2)\n",
        "root\n"
      ],
      "metadata": {
        "colab": {
          "base_uri": "https://localhost:8080/"
        },
        "id": "MoYLBHgawR1z",
        "outputId": "f678d1d3-a98c-465d-cd62-ebf4ce36e57f"
      },
      "execution_count": null,
      "outputs": [
        {
          "output_type": "execute_result",
          "data": {
            "text/plain": [
              "1.0"
            ]
          },
          "metadata": {},
          "execution_count": 19
        }
      ]
    },
    {
      "cell_type": "code",
      "source": [
        "root = optimize.newton(f, 1.5, fprime=lambda x: 3 * x**2,\n",
        "                       fprime2=lambda x: 6 * x)\n",
        "root"
      ],
      "metadata": {
        "colab": {
          "base_uri": "https://localhost:8080/"
        },
        "id": "Li18LeI4wfcD",
        "outputId": "2427e3f2-2c20-4063-be92-3013545cd7ec"
      },
      "execution_count": null,
      "outputs": [
        {
          "output_type": "execute_result",
          "data": {
            "text/plain": [
              "1.0"
            ]
          },
          "metadata": {},
          "execution_count": 20
        }
      ]
    },
    {
      "cell_type": "code",
      "source": [
        "def fun(x):\n",
        "    return [x[0]  + 0.5 * (x[0] - x[1])**3 - 1.0,\n",
        "            0.5 * (x[1] - x[0])**3 + x[1]]\n",
        "sol = optimize.root(fun, [0, 0])\n",
        "sol.x"
      ],
      "metadata": {
        "colab": {
          "base_uri": "https://localhost:8080/"
        },
        "id": "Nt3GS2rUui1t",
        "outputId": "fb05c7ec-2cb0-4a3e-b4c3-4e09ff69a575"
      },
      "execution_count": null,
      "outputs": [
        {
          "output_type": "execute_result",
          "data": {
            "text/plain": [
              "array([0.8411639, 0.1588361])"
            ]
          },
          "metadata": {},
          "execution_count": 21
        }
      ]
    },
    {
      "cell_type": "code",
      "source": [
        "solution=optimize.root(f,1.5)\n",
        "solution.x"
      ],
      "metadata": {
        "colab": {
          "base_uri": "https://localhost:8080/"
        },
        "id": "9RXjEzlNx9TV",
        "outputId": "354f399c-bee8-45dd-b276-dd01016c79b2"
      },
      "execution_count": null,
      "outputs": [
        {
          "output_type": "execute_result",
          "data": {
            "text/plain": [
              "array([1.])"
            ]
          },
          "metadata": {},
          "execution_count": 22
        }
      ]
    },
    {
      "cell_type": "markdown",
      "source": [
        "#Exercises\n",
        "https://www.atozmath.com/example/CONM/LeastSquare.aspx?he=h (first three problems)\n",
        "\n",
        "\n",
        "\n",
        "\n",
        "Find the roots of the equation using newton, bisect (with and without using formula)\n",
        "\n",
        " 1. $f(x) = 2x^3-2x-5$\n",
        " 2. $f(x) = x^3-x-1$\n",
        " 3. $f(x) = x^3+2x^2+x-1$\n",
        " 4. $f(x) = x^3-2x-5$\n",
        " 5. $f(x) = x^3-x+1$\n",
        "\n",
        "\n",
        "1. solve the following equation cos(x)=x**3 by using builtin function and without using function\n",
        "2. solve x**2=2 by using builtin function and without using function\n",
        "3. find the square and cube root using builtin function and without using function\n",
        "4. Find the root of $x^2+y=5$ and $y^2+x=10$\n",
        "\n"
      ],
      "metadata": {
        "id": "oUR1KLjk6rDR"
      }
    }
  ],
  "metadata": {
    "kernelspec": {
      "display_name": "Python 3 (ipykernel)",
      "language": "python",
      "name": "python3"
    },
    "language_info": {
      "codemirror_mode": {
        "name": "ipython",
        "version": 3
      },
      "file_extension": ".py",
      "mimetype": "text/x-python",
      "name": "python",
      "nbconvert_exporter": "python",
      "pygments_lexer": "ipython3",
      "version": "3.8.12"
    },
    "colab": {
      "provenance": [],
      "include_colab_link": true
    }
  },
  "nbformat": 4,
  "nbformat_minor": 0
}