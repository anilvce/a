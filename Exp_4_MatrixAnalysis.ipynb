{
  "cells": [
    {
      "cell_type": "markdown",
      "metadata": {
        "id": "view-in-github",
        "colab_type": "text"
      },
      "source": [
        "<a href=\"https://colab.research.google.com/github/anilvce/a/blob/master/Exp_4_MatrixAnalysis.ipynb\" target=\"_parent\"><img src=\"https://colab.research.google.com/assets/colab-badge.svg\" alt=\"Open In Colab\"/></a>"
      ]
    },
    {
      "cell_type": "code",
      "execution_count": null,
      "metadata": {
        "colab": {
          "base_uri": "https://localhost:8080/"
        },
        "id": "HOSfRqsr7LaX",
        "outputId": "b8f3f079-3dd3-4949-d808-c9f128df2da7"
      },
      "outputs": [
        {
          "output_type": "stream",
          "name": "stdout",
          "text": [
            "[[ 1.41837222 -1.87463182  0.22843014 -0.18059195]\n",
            " [-0.22685521  2.20944718 -3.06101299  0.96310858]\n",
            " [ 0.55141178 -0.69427558  0.54570157 -0.48318058]\n",
            " [-2.09623058  0.45890915  2.94536955 -0.31466202]]\n"
          ]
        }
      ],
      "source": [
        "import numpy as np\n",
        "import scipy.linalg as spylinalg\n",
        "\n",
        "a = np.random.normal(5, 1, size=(4,4))\n",
        "#a=np.array([1,2])\n",
        "ainv = spylinalg.inv(a)\n",
        "print(ainv)"
      ]
    },
    {
      "cell_type": "code",
      "execution_count": null,
      "metadata": {
        "colab": {
          "base_uri": "https://localhost:8080/"
        },
        "id": "MGUImeWK7Lat",
        "outputId": "dbaf2cad-ee76-49ec-a0de-bf3380b5f5e7"
      },
      "outputs": [
        {
          "output_type": "stream",
          "name": "stdout",
          "text": [
            "[[ 1.00000000e+00 -9.58118345e-16 -1.40644813e-16  3.08037797e-16]\n",
            " [ 4.40563844e-16  1.00000000e+00 -5.22381225e-16  1.38154090e-16]\n",
            " [ 6.00829958e-16 -1.28137707e-16  1.00000000e+00 -2.96493798e-16]\n",
            " [ 5.44382921e-16 -3.77294946e-16 -1.47143817e-16  1.00000000e+00]]\n"
          ]
        }
      ],
      "source": [
        "print(a.dot(ainv))"
      ]
    },
    {
      "cell_type": "code",
      "execution_count": null,
      "metadata": {
        "colab": {
          "base_uri": "https://localhost:8080/"
        },
        "id": "n8tfuaxb7Laz",
        "outputId": "d0b13b51-9433-4716-ca7a-80cdc89b8d50"
      },
      "outputs": [
        {
          "output_type": "execute_result",
          "data": {
            "text/plain": [
              "array([[1., 0., 0., 0.],\n",
              "       [0., 1., 0., 0.],\n",
              "       [0., 0., 1., 0.],\n",
              "       [0., 0., 0., 1.]])"
            ]
          },
          "metadata": {},
          "execution_count": 5
        }
      ],
      "source": [
        "i4=np.eye(4)\n",
        "i4"
      ]
    },
    {
      "cell_type": "code",
      "source": [
        "c=a.dot(ainv)\n"
      ],
      "metadata": {
        "id": "FfeRgSv6JE5W"
      },
      "execution_count": null,
      "outputs": []
    },
    {
      "cell_type": "code",
      "source": [
        "np.array_equal(c,i4)"
      ],
      "metadata": {
        "colab": {
          "base_uri": "https://localhost:8080/"
        },
        "id": "NSrC0lJ0KrsW",
        "outputId": "213cc40c-7141-447d-d629-47e721a97229"
      },
      "execution_count": null,
      "outputs": [
        {
          "output_type": "execute_result",
          "data": {
            "text/plain": [
              "False"
            ]
          },
          "metadata": {},
          "execution_count": 32
        }
      ]
    },
    {
      "cell_type": "code",
      "source": [
        "(c>=i4).all()"
      ],
      "metadata": {
        "colab": {
          "base_uri": "https://localhost:8080/"
        },
        "id": "k3zdXVXDNHll",
        "outputId": "62d31799-c817-4659-9d14-4461267f6252"
      },
      "execution_count": null,
      "outputs": [
        {
          "output_type": "execute_result",
          "data": {
            "text/plain": [
              "False"
            ]
          },
          "metadata": {},
          "execution_count": 8
        }
      ]
    },
    {
      "cell_type": "code",
      "source": [
        "(c>=i4).any()"
      ],
      "metadata": {
        "colab": {
          "base_uri": "https://localhost:8080/"
        },
        "id": "YLvGcP5iSCFz",
        "outputId": "5f4ccd91-8138-45c3-d805-1f683efc517a"
      },
      "execution_count": null,
      "outputs": [
        {
          "output_type": "execute_result",
          "data": {
            "text/plain": [
              "True"
            ]
          },
          "metadata": {},
          "execution_count": 9
        }
      ]
    },
    {
      "cell_type": "code",
      "source": [
        "np.isclose(c,i4)"
      ],
      "metadata": {
        "colab": {
          "base_uri": "https://localhost:8080/"
        },
        "id": "Qhq_eO2GKo-_",
        "outputId": "4de19eb2-d318-48c0-9c65-8c6a8d054ee5"
      },
      "execution_count": null,
      "outputs": [
        {
          "output_type": "execute_result",
          "data": {
            "text/plain": [
              "array([[ True,  True,  True,  True],\n",
              "       [ True,  True,  True,  True],\n",
              "       [ True,  True,  True,  True],\n",
              "       [ True,  True,  True,  True]])"
            ]
          },
          "metadata": {},
          "execution_count": 10
        }
      ]
    },
    {
      "cell_type": "code",
      "source": [
        "np.allclose(c,i4)"
      ],
      "metadata": {
        "colab": {
          "base_uri": "https://localhost:8080/"
        },
        "id": "Q2kZRcRYJuUd",
        "outputId": "ac59565b-3dc9-47d5-b956-404256110cd8"
      },
      "execution_count": null,
      "outputs": [
        {
          "output_type": "execute_result",
          "data": {
            "text/plain": [
              "True"
            ]
          },
          "metadata": {},
          "execution_count": 11
        }
      ]
    },
    {
      "cell_type": "code",
      "execution_count": null,
      "metadata": {
        "colab": {
          "base_uri": "https://localhost:8080/"
        },
        "id": "kw0_47m27La3",
        "outputId": "2c939e06-ef9b-417d-d3d1-2746d372c941"
      },
      "outputs": [
        {
          "output_type": "stream",
          "name": "stdout",
          "text": [
            "46.877814293583974\n"
          ]
        }
      ],
      "source": [
        "print(spylinalg.det(a))\n"
      ]
    },
    {
      "cell_type": "code",
      "execution_count": null,
      "metadata": {
        "id": "aPdUbF0u7La6"
      },
      "outputs": [],
      "source": [
        "print(a,spylinalg.norm(a))\n",
        "help(spylinalg.norm)"
      ]
    },
    {
      "cell_type": "code",
      "source": [
        "import math\n",
        "a = np.arange(9) - 4.0\n",
        "print(a,spylinalg.norm(a))\n",
        "math.sqrt(2*(4*4+3*3+2*2+1*1))"
      ],
      "metadata": {
        "colab": {
          "base_uri": "https://localhost:8080/"
        },
        "id": "fn5aGPuDCEd6",
        "outputId": "4328c7a8-499d-4c0a-ecec-1fd3339e830f"
      },
      "execution_count": null,
      "outputs": [
        {
          "output_type": "stream",
          "name": "stdout",
          "text": [
            "[-4. -3. -2. -1.  0.  1.  2.  3.  4.] 7.745966692414834\n"
          ]
        },
        {
          "output_type": "execute_result",
          "data": {
            "text/plain": [
              "7.745966692414834"
            ]
          },
          "metadata": {},
          "execution_count": 14
        }
      ]
    },
    {
      "cell_type": "code",
      "source": [
        "print(spylinalg.norm(np.eye(4)))"
      ],
      "metadata": {
        "colab": {
          "base_uri": "https://localhost:8080/"
        },
        "id": "G1GsYvftC7UP",
        "outputId": "d4d9d835-48d3-4a21-87b6-5c4ebda1852a"
      },
      "execution_count": null,
      "outputs": [
        {
          "output_type": "stream",
          "name": "stdout",
          "text": [
            "2.0\n"
          ]
        }
      ]
    },
    {
      "cell_type": "code",
      "execution_count": null,
      "metadata": {
        "colab": {
          "base_uri": "https://localhost:8080/",
          "height": 312
        },
        "id": "rCzxrT717La9",
        "outputId": "307fe549-5b8d-48fd-b24f-75a7e4c687ac"
      },
      "outputs": [
        {
          "output_type": "error",
          "ename": "ValueError",
          "evalue": "ignored",
          "traceback": [
            "\u001b[0;31m---------------------------------------------------------------------------\u001b[0m",
            "\u001b[0;31mValueError\u001b[0m                                Traceback (most recent call last)",
            "\u001b[0;32m<ipython-input-16-f96c37b73d0c>\u001b[0m in \u001b[0;36m<cell line: 2>\u001b[0;34m()\u001b[0m\n\u001b[1;32m      1\u001b[0m \u001b[0marect\u001b[0m \u001b[0;34m=\u001b[0m \u001b[0mnp\u001b[0m\u001b[0;34m.\u001b[0m\u001b[0mrandom\u001b[0m\u001b[0;34m.\u001b[0m\u001b[0mnormal\u001b[0m\u001b[0;34m(\u001b[0m\u001b[0;36m5\u001b[0m\u001b[0;34m,\u001b[0m \u001b[0;36m1\u001b[0m\u001b[0;34m,\u001b[0m \u001b[0msize\u001b[0m\u001b[0;34m=\u001b[0m\u001b[0;34m(\u001b[0m\u001b[0;36m4\u001b[0m\u001b[0;34m,\u001b[0m\u001b[0;36m3\u001b[0m\u001b[0;34m)\u001b[0m\u001b[0;34m)\u001b[0m\u001b[0;34m\u001b[0m\u001b[0;34m\u001b[0m\u001b[0m\n\u001b[0;32m----> 2\u001b[0;31m \u001b[0mprint\u001b[0m\u001b[0;34m(\u001b[0m\u001b[0mspylinalg\u001b[0m\u001b[0;34m.\u001b[0m\u001b[0minv\u001b[0m\u001b[0;34m(\u001b[0m\u001b[0marect\u001b[0m\u001b[0;34m)\u001b[0m\u001b[0;34m)\u001b[0m\u001b[0;34m\u001b[0m\u001b[0;34m\u001b[0m\u001b[0m\n\u001b[0m",
            "\u001b[0;32m/usr/local/lib/python3.10/dist-packages/scipy/linalg/_basic.py\u001b[0m in \u001b[0;36minv\u001b[0;34m(a, overwrite_a, check_finite)\u001b[0m\n\u001b[1;32m    946\u001b[0m     \u001b[0ma1\u001b[0m \u001b[0;34m=\u001b[0m \u001b[0m_asarray_validated\u001b[0m\u001b[0;34m(\u001b[0m\u001b[0ma\u001b[0m\u001b[0;34m,\u001b[0m \u001b[0mcheck_finite\u001b[0m\u001b[0;34m=\u001b[0m\u001b[0mcheck_finite\u001b[0m\u001b[0;34m)\u001b[0m\u001b[0;34m\u001b[0m\u001b[0;34m\u001b[0m\u001b[0m\n\u001b[1;32m    947\u001b[0m     \u001b[0;32mif\u001b[0m \u001b[0mlen\u001b[0m\u001b[0;34m(\u001b[0m\u001b[0ma1\u001b[0m\u001b[0;34m.\u001b[0m\u001b[0mshape\u001b[0m\u001b[0;34m)\u001b[0m \u001b[0;34m!=\u001b[0m \u001b[0;36m2\u001b[0m \u001b[0;32mor\u001b[0m \u001b[0ma1\u001b[0m\u001b[0;34m.\u001b[0m\u001b[0mshape\u001b[0m\u001b[0;34m[\u001b[0m\u001b[0;36m0\u001b[0m\u001b[0;34m]\u001b[0m \u001b[0;34m!=\u001b[0m \u001b[0ma1\u001b[0m\u001b[0;34m.\u001b[0m\u001b[0mshape\u001b[0m\u001b[0;34m[\u001b[0m\u001b[0;36m1\u001b[0m\u001b[0;34m]\u001b[0m\u001b[0;34m:\u001b[0m\u001b[0;34m\u001b[0m\u001b[0;34m\u001b[0m\u001b[0m\n\u001b[0;32m--> 948\u001b[0;31m         \u001b[0;32mraise\u001b[0m \u001b[0mValueError\u001b[0m\u001b[0;34m(\u001b[0m\u001b[0;34m'expected square matrix'\u001b[0m\u001b[0;34m)\u001b[0m\u001b[0;34m\u001b[0m\u001b[0;34m\u001b[0m\u001b[0m\n\u001b[0m\u001b[1;32m    949\u001b[0m     \u001b[0moverwrite_a\u001b[0m \u001b[0;34m=\u001b[0m \u001b[0moverwrite_a\u001b[0m \u001b[0;32mor\u001b[0m \u001b[0m_datacopied\u001b[0m\u001b[0;34m(\u001b[0m\u001b[0ma1\u001b[0m\u001b[0;34m,\u001b[0m \u001b[0ma\u001b[0m\u001b[0;34m)\u001b[0m\u001b[0;34m\u001b[0m\u001b[0;34m\u001b[0m\u001b[0m\n\u001b[1;32m    950\u001b[0m     \u001b[0;31m# XXX: I found no advantage or disadvantage of using finv.\u001b[0m\u001b[0;34m\u001b[0m\u001b[0;34m\u001b[0m\u001b[0m\n",
            "\u001b[0;31mValueError\u001b[0m: expected square matrix"
          ]
        }
      ],
      "source": [
        "arect = np.random.normal(5, 1, size=(4,3))\n",
        "print(spylinalg.inv(arect))"
      ]
    },
    {
      "cell_type": "code",
      "execution_count": null,
      "metadata": {
        "colab": {
          "base_uri": "https://localhost:8080/"
        },
        "id": "eQJ5HgWg7La_",
        "outputId": "67f4fb81-5b22-4f4a-f3bc-1dce3f15c5a6"
      },
      "outputs": [
        {
          "output_type": "stream",
          "name": "stdout",
          "text": [
            "order= (4, 3)\n",
            "order of inverse= (3, 4)\n",
            "[[-0.39799764  0.30444227 -0.26011595  0.36714797]\n",
            " [ 0.25280472 -0.20359456  0.02565415  0.019315  ]\n",
            " [ 0.14802093 -0.01802459  0.24717887 -0.293071  ]]\n",
            "[[ 0.77519776 -0.22434781  0.31187804  0.16329832]\n",
            " [-0.22434781  0.7761057   0.31124759  0.16296822]\n",
            " [ 0.31187804  0.31124759  0.56731787 -0.22655095]\n",
            " [ 0.16329832  0.16296822 -0.22655095  0.88137866]]\n"
          ]
        }
      ],
      "source": [
        "print(\"order=\",arect.shape)\n",
        "arectinv = spylinalg.pinv(arect)\n",
        "print(\"order of inverse=\",arectinv.shape)\n",
        "print(arectinv)\n",
        "print(arect.dot(arectinv))"
      ]
    },
    {
      "cell_type": "code",
      "execution_count": null,
      "metadata": {
        "colab": {
          "base_uri": "https://localhost:8080/"
        },
        "id": "FXKOEHMS7LbB",
        "outputId": "fbaab5d0-a18b-4e21-94a3-d9fd8bf93b77"
      },
      "outputs": [
        {
          "output_type": "stream",
          "name": "stdout",
          "text": [
            "[[5.93865977 5.51837072 4.62052817 5.94203064]\n",
            " [5.8385074  3.89774421 4.83745607 6.19888733]\n",
            " [3.69924739 4.41159784 4.71505997 3.4419113 ]\n",
            " [5.16310566 5.23583371 6.62973053 4.75143893]]\n",
            "19.302902877718495\n"
          ]
        }
      ],
      "source": [
        "a = np.random.normal(5, 1, size=(4,4))\n",
        "print(a)\n",
        "print(np.trace(a))"
      ]
    },
    {
      "cell_type": "code",
      "source": [
        "b=np.array([[1,3,4],[3,2,1],[2,3,4]])\n",
        "print(np.trace(b))"
      ],
      "metadata": {
        "colab": {
          "base_uri": "https://localhost:8080/"
        },
        "id": "siE4ypaYIHKI",
        "outputId": "6ba9a72f-3d5e-4bf0-dc13-85ba8cb7f9ec"
      },
      "execution_count": null,
      "outputs": [
        {
          "output_type": "stream",
          "name": "stdout",
          "text": [
            "7\n"
          ]
        }
      ]
    },
    {
      "cell_type": "code",
      "source": [
        "np.random.randint(1,10)"
      ],
      "metadata": {
        "colab": {
          "base_uri": "https://localhost:8080/"
        },
        "id": "3DSgMFBmkAoU",
        "outputId": "b1ecdf3f-918d-4914-b63d-1db89633feb0"
      },
      "execution_count": null,
      "outputs": [
        {
          "output_type": "execute_result",
          "data": {
            "text/plain": [
              "9"
            ]
          },
          "metadata": {},
          "execution_count": 25
        }
      ]
    },
    {
      "cell_type": "code",
      "source": [
        "[np.random.randint(-10,10) for i in range(20)]"
      ],
      "metadata": {
        "colab": {
          "base_uri": "https://localhost:8080/"
        },
        "id": "rH22VZYPjbZ1",
        "outputId": "640113f4-d8b0-4748-e268-8354f384a09c"
      },
      "execution_count": null,
      "outputs": [
        {
          "output_type": "execute_result",
          "data": {
            "text/plain": [
              "[-2, -8, 5, 0, 8, -4, -6, -8, 4, -5, 4, 7, -5, 6, -8, -6, 3, 8, 1, -10]"
            ]
          },
          "metadata": {},
          "execution_count": 21
        }
      ]
    },
    {
      "cell_type": "code",
      "source": [
        "x=np.array([np.random.randint(-10,10) for i in range(20)])\n",
        "print(x)\n",
        "print(np.mean(x))\n",
        "print(\"exp\",np.exp(x))\n",
        "print(\"max\",np.max(x))\n",
        "print(\"argmax\", np.argmax(x))"
      ],
      "metadata": {
        "colab": {
          "base_uri": "https://localhost:8080/"
        },
        "id": "4oQRQvA5jvAN",
        "outputId": "202443da-308d-4015-c8e4-6a3d3233061b"
      },
      "execution_count": null,
      "outputs": [
        {
          "output_type": "stream",
          "name": "stdout",
          "text": [
            "[ 6  3  9 -3  9  9 -9  9  3  7 -8 -2 -6  6  1  8  8  1  8 -2]\n",
            "2.85\n",
            "exp [4.03428793e+02 2.00855369e+01 8.10308393e+03 4.97870684e-02\n",
            " 8.10308393e+03 8.10308393e+03 1.23409804e-04 8.10308393e+03\n",
            " 2.00855369e+01 1.09663316e+03 3.35462628e-04 1.35335283e-01\n",
            " 2.47875218e-03 4.03428793e+02 2.71828183e+00 2.98095799e+03\n",
            " 2.98095799e+03 2.71828183e+00 2.98095799e+03 1.35335283e-01]\n",
            "max 9\n",
            "argmax 2\n"
          ]
        }
      ]
    },
    {
      "cell_type": "markdown",
      "source": [
        "The difference between them is that the reshape() does not changes the original array but only returns the changed array, whereas the resize() method returns nothing and directly changes the original array."
      ],
      "metadata": {
        "id": "5n8cTStllXmU"
      }
    },
    {
      "cell_type": "code",
      "source": [
        "x.reshape(5,4)"
      ],
      "metadata": {
        "colab": {
          "base_uri": "https://localhost:8080/"
        },
        "id": "a4ADPFhbkNw0",
        "outputId": "ad67f5ca-7da6-4ec9-ab20-95b1b7ed9fa0"
      },
      "execution_count": null,
      "outputs": [
        {
          "output_type": "execute_result",
          "data": {
            "text/plain": [
              "array([[ 6,  3,  9, -3],\n",
              "       [ 9,  9, -9,  9],\n",
              "       [ 3,  7, -8, -2],\n",
              "       [-6,  6,  1,  8],\n",
              "       [ 8,  1,  8, -2]])"
            ]
          },
          "metadata": {},
          "execution_count": 29
        }
      ]
    },
    {
      "cell_type": "code",
      "source": [
        "x.resize(5,4)"
      ],
      "metadata": {
        "id": "HbA5hnN7k9ds"
      },
      "execution_count": null,
      "outputs": []
    },
    {
      "cell_type": "code",
      "source": [
        "x"
      ],
      "metadata": {
        "colab": {
          "base_uri": "https://localhost:8080/"
        },
        "id": "PS3RA2ealgX0",
        "outputId": "ced7b02e-bb17-478c-aba8-4d6ebec48092"
      },
      "execution_count": null,
      "outputs": [
        {
          "output_type": "execute_result",
          "data": {
            "text/plain": [
              "array([[ 6,  3,  9, -3],\n",
              "       [ 9,  9, -9,  9],\n",
              "       [ 3,  7, -8, -2],\n",
              "       [-6,  6,  1,  8],\n",
              "       [ 8,  1,  8, -2]])"
            ]
          },
          "metadata": {},
          "execution_count": 31
        }
      ]
    },
    {
      "cell_type": "code",
      "source": [],
      "metadata": {
        "id": "9iSa3mnMlgH1"
      },
      "execution_count": null,
      "outputs": []
    },
    {
      "cell_type": "code",
      "execution_count": null,
      "metadata": {
        "id": "BK7hZ1qR7LbE"
      },
      "outputs": [],
      "source": [
        "#Exercises\n"
      ]
    },
    {
      "cell_type": "code",
      "execution_count": null,
      "metadata": {
        "id": "kiGO0M8g7LbH"
      },
      "outputs": [],
      "source": [
        "# A  * A inverse  = A inverse * A =1\n",
        "# (A.inv).inv = A\n",
        "# (AB).inv = B.inv A.inv\n",
        "# (A.T).inv = (A.inv).T\n",
        "# inverse of (k * A) = 1/k * inverse(A)  ; k - scalar\n",
        "# trace(A * A transpose)= trace(A transpose * A)\n",
        "# norm(A*B) <= norm(A) * norm(B)\n",
        "# pick some properties related to determinant, Trace & Rank"
      ]
    },
    {
      "cell_type": "code",
      "source": [
        "import random\n",
        "import numpy as np\n",
        "marks = random.sample(range(100), 9)\n",
        "a = random.sample(range(100), 9)\n",
        "b = random.sample(range(100), 9)\n",
        "print(marks,a)\n",
        "print(type(marks))\n",
        "A=np.array(a)\n",
        "A.resize(3,3)\n",
        "print(A)\n",
        "B=np.array(b)\n",
        "B.resize(3,3)\n",
        "print(B)\n",
        "print(A.dot(B))\n",
        "AB=A.dot(B)\n",
        "print(\"AB.T\",AB.T)\n",
        "BT=B.T\n",
        "AT=A.T\n",
        "print(BT.dot(AT))"
      ],
      "metadata": {
        "colab": {
          "base_uri": "https://localhost:8080/"
        },
        "id": "Rrwehcg35zmL",
        "outputId": "ba7906f4-27ac-4b86-8c0d-62fc561f8ed4"
      },
      "execution_count": null,
      "outputs": [
        {
          "output_type": "stream",
          "name": "stdout",
          "text": [
            "[58, 90, 94, 32, 28, 18, 78, 47, 48] [36, 32, 67, 14, 2, 5, 83, 29, 73]\n",
            "<class 'list'>\n",
            "[[36 32 67]\n",
            " [14  2  5]\n",
            " [83 29 73]]\n",
            "[[ 3 11 37]\n",
            " [29 97 33]\n",
            " [34 81 87]]\n",
            "[[ 3314  8927  8217]\n",
            " [  270   753  1019]\n",
            " [ 3572  9639 10379]]\n",
            "AB.T [[ 3314   270  3572]\n",
            " [ 8927   753  9639]\n",
            " [ 8217  1019 10379]]\n",
            "[[ 3314   270  3572]\n",
            " [ 8927   753  9639]\n",
            " [ 8217  1019 10379]]\n"
          ]
        }
      ]
    }
  ],
  "metadata": {
    "kernelspec": {
      "display_name": "Python 3 (ipykernel)",
      "language": "python",
      "name": "python3"
    },
    "language_info": {
      "codemirror_mode": {
        "name": "ipython",
        "version": 3
      },
      "file_extension": ".py",
      "mimetype": "text/x-python",
      "name": "python",
      "nbconvert_exporter": "python",
      "pygments_lexer": "ipython3",
      "version": "3.9.7"
    },
    "colab": {
      "provenance": [],
      "include_colab_link": true
    }
  },
  "nbformat": 4,
  "nbformat_minor": 0
}